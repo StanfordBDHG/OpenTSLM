{
 "cells": [
  {
   "cell_type": "markdown",
   "id": "6b6da428",
   "metadata": {},
   "source": [
    "# Sleep-EDF Dataset Exploration Notebook"
   ]
  },
  {
   "cell_type": "markdown",
   "id": "35e6f21e",
   "metadata": {},
   "source": [
    "This notebook illustrates how to use the `SleepEDFDataset` loader to explore EEG epochs and sleep stage annotations from the Sleep-EDF dataset. We'll cover:\n",
    "1. Dataset structure and basic stats\n",
    "2. Mapping numeric labels to sleep stages\n",
    "3. Distribution of sleep stages\n",
    "4. Hypnogram plotting over time\n",
    "5. Examples of EEG epochs for each sleep stage\n"
   ]
  },
  {
   "cell_type": "code",
   "execution_count": 1,
   "id": "ca66140d",
   "metadata": {},
   "outputs": [],
   "source": [
    "import os\n",
    "import sys\n",
    "# Adjust this path to where your loader module resides\n",
    "import sys\n",
    "sys.path.append(os.path.dirname(os.getcwd()))\n",
    "from time_series_datasets.sleep_edf.sleepedf_loader import SleepEDFDataset, get_sleepedf_data\n",
    "import numpy as np\n",
    "import matplotlib.pyplot as plt\n",
    "\n",
    "# Initialize dataset\n",
    "data_path = get_sleepedf_data()\n",
    "dataset = SleepEDFDataset(data_dir=data_path)\n"
   ]
  },
  {
   "cell_type": "markdown",
   "id": "c189a43d",
   "metadata": {},
   "source": [
    "## 1. Dataset Structure and Basic Stats"
   ]
  },
  {
   "cell_type": "code",
   "execution_count": 2,
   "id": "317108cb",
   "metadata": {},
   "outputs": [
    {
     "name": "stdout",
     "output_type": "stream",
     "text": [
      "Number of recordings: 8\n",
      "First few PSG files:\n",
      "['SC4002E0-PSG.edf', 'SC4031E0-PSG.edf', 'SC4022E0-PSG.edf', 'SC4011E0-PSG.edf', 'SC4021E0-PSG.edf']\n"
     ]
    }
   ],
   "source": [
    "# Number of recordings (PSG files) available\n",
    "num_recs = len(dataset)\n",
    "print(f\"Number of recordings: {num_recs}\")\n",
    "\n",
    "# Show first few file identifiers\n",
    "print(\"First few PSG files:\")\n",
    "print(dataset.data_files[:5])"
   ]
  },
  {
   "cell_type": "markdown",
   "id": "adc7692a",
   "metadata": {},
   "source": [
    "## 2. Sample Shape and Label Info"
   ]
  },
  {
   "cell_type": "code",
   "execution_count": 3,
   "id": "c62e0cfd",
   "metadata": {},
   "outputs": [
    {
     "name": "stdout",
     "output_type": "stream",
     "text": [
      "Extracting EDF parameters from /Users/planger/Development/EmbedHealth/time_series_datasets/raw_data/sleep-edf-database-1.0.0/physionet.org/files/sleep-edfx/1.0.0/sleep-cassette/SC4002E0-PSG.edf...\n",
      "EDF file detected\n",
      "Setting channel info structure...\n",
      "Creating raw.info structure...\n",
      "Reading 0 ... 8489999  =      0.000 ... 84899.990 secs...\n"
     ]
    },
    {
     "name": "stderr",
     "output_type": "stream",
     "text": [
      "/Users/planger/Development/EmbedHealth/time_series_datasets/sleep_edf/sleepedf_loader.py:85: RuntimeWarning: Channels contain different highpass filters. Highest filter setting will be stored.\n",
      "  raw = mne.io.read_raw_edf(psg_path, preload=True)\n",
      "/Users/planger/Development/EmbedHealth/time_series_datasets/sleep_edf/sleepedf_loader.py:85: RuntimeWarning: Channels contain different lowpass filters. Lowest filter setting will be stored.\n",
      "  raw = mne.io.read_raw_edf(psg_path, preload=True)\n",
      "/Users/planger/Development/EmbedHealth/time_series_datasets/sleep_edf/sleepedf_loader.py:85: RuntimeWarning: Highpass cutoff frequency 16.0 is greater than lowpass cutoff frequency 0.7, setting values to 0 and Nyquist.\n",
      "  raw = mne.io.read_raw_edf(psg_path, preload=True)\n"
     ]
    },
    {
     "name": "stdout",
     "output_type": "stream",
     "text": [
      "Used Annotations descriptions: [np.str_('Movement time'), np.str_('Sleep stage 1'), np.str_('Sleep stage 2'), np.str_('Sleep stage 3'), np.str_('Sleep stage 4'), np.str_('Sleep stage ?'), np.str_('Sleep stage R'), np.str_('Sleep stage W')]\n",
      "Not setting metadata\n",
      "151 matching events found\n",
      "No baseline correction applied\n",
      "0 projection items activated\n",
      "Using data from preloaded Raw for 151 events and 3000 original time points ...\n",
      "0 bad epochs dropped\n",
      "Epoch data shape: (151, 1, 3000)  (n_epochs, 1 channel, n_times)\n",
      "Labels shape: (151,)\n",
      "Unique numeric labels: [1 2 3 4 5 7 8]\n"
     ]
    },
    {
     "name": "stderr",
     "output_type": "stream",
     "text": [
      "/Users/planger/Development/EmbedHealth/time_series_datasets/sleep_edf/sleepedf_loader.py:87: RuntimeWarning: Limited 1 annotation(s) that were expanding outside the data range.\n",
      "  raw.set_annotations(ann)\n"
     ]
    }
   ],
   "source": [
    "# Load the first recording's epochs and labels\n",
    "data, labels = dataset[0]\n",
    "print(f\"Epoch data shape: {data.shape}  (n_epochs, 1 channel, n_times)\")\n",
    "print(f\"Labels shape: {labels.shape}\")\n",
    "\n",
    "# Unique numeric labels in this recording\n",
    "unique_labels = np.unique(labels)\n",
    "print(f\"Unique numeric labels: {unique_labels}\")"
   ]
  },
  {
   "cell_type": "markdown",
   "id": "3cae1d9e",
   "metadata": {},
   "source": [
    "## 3. Mapping Numeric Labels to Sleep Stages"
   ]
  },
  {
   "cell_type": "code",
   "execution_count": 5,
   "id": "6af4ab28",
   "metadata": {},
   "outputs": [
    {
     "ename": "FileNotFoundError",
     "evalue": "[Errno 2] No such file or directory: '/absolute/path/to/time_series_datasets/sleep-edf'",
     "output_type": "error",
     "traceback": [
      "\u001b[0;31m---------------------------------------------------------------------------\u001b[0m",
      "\u001b[0;31mFileNotFoundError\u001b[0m                         Traceback (most recent call last)",
      "Cell \u001b[0;32mIn[5], line 8\u001b[0m\n\u001b[1;32m      6\u001b[0m \u001b[38;5;66;03m# Replace this with your actual path to the folder containing sleepedf_loader.py\u001b[39;00m\n\u001b[1;32m      7\u001b[0m PROJECT_DIR \u001b[38;5;241m=\u001b[39m \u001b[38;5;124m'\u001b[39m\u001b[38;5;124m/absolute/path/to/time_series_datasets/sleep-edf\u001b[39m\u001b[38;5;124m'\u001b[39m\n\u001b[0;32m----> 8\u001b[0m \u001b[43mos\u001b[49m\u001b[38;5;241;43m.\u001b[39;49m\u001b[43mchdir\u001b[49m\u001b[43m(\u001b[49m\u001b[43mPROJECT_DIR\u001b[49m\u001b[43m)\u001b[49m              \n\u001b[1;32m      9\u001b[0m sys\u001b[38;5;241m.\u001b[39mpath\u001b[38;5;241m.\u001b[39minsert(\u001b[38;5;241m0\u001b[39m, PROJECT_DIR)\n\u001b[1;32m     11\u001b[0m \u001b[38;5;28;01mfrom\u001b[39;00m\u001b[38;5;250m \u001b[39m\u001b[38;5;21;01msleepedf_loader\u001b[39;00m\u001b[38;5;250m \u001b[39m\u001b[38;5;28;01mimport\u001b[39;00m SleepEDFDataset, get_sleepedf_data\n",
      "\u001b[0;31mFileNotFoundError\u001b[0m: [Errno 2] No such file or directory: '/absolute/path/to/time_series_datasets/sleep-edf'"
     ]
    }
   ],
   "source": [
    "# --- 1. Setup imports and path ---\n",
    "import os\n",
    "import sys\n",
    "import mne\n",
    "\n",
    "# Replace this with your actual path to the folder containing sleepedf_loader.py\n",
    "PROJECT_DIR = '/absolute/path/to/time_series_datasets/sleep-edf'\n",
    "os.chdir(PROJECT_DIR)              \n",
    "sys.path.insert(0, PROJECT_DIR)\n",
    "\n",
    "from sleepedf_loader import SleepEDFDataset, get_sleepedf_data\n",
    "\n",
    "# --- 2. Initialize the dataset ---\n",
    "data_path = get_sleepedf_data()\n",
    "dataset   = SleepEDFDataset(data_dir=data_path)\n",
    "\n",
    "# --- 3. Load the first PSG and its hypnogram ---\n",
    "psg_file = dataset.data_files[0]\n",
    "raw      = mne.io.read_raw_edf(os.path.join(data_path, psg_file), preload=True)\n",
    "\n",
    "# Find the matching Hypnogram file (handles E0→EC naming)\n",
    "prefix   = psg_file.split('-')[0][:6]\n",
    "hyp_files = [f for f in os.listdir(data_path)\n",
    "             if f.startswith(prefix) and f.endswith(\"Hypnogram.edf\")]\n",
    "if not hyp_files:\n",
    "    raise FileNotFoundError(f\"No Hypnogram found for {psg_file}\")\n",
    "ann = mne.read_annotations(os.path.join(data_path, hyp_files[0]))\n",
    "raw.set_annotations(ann)\n",
    "\n",
    "# --- 4. Extract events and build mapping ---\n",
    "events, event_id = mne.events_from_annotations(raw)\n",
    "code_to_stage   = {code: desc for desc, code in event_id.items()}\n",
    "\n",
    "print(\"Annotation code → Sleep stage:\")\n",
    "for code, desc in code_to_stage.items():\n",
    "    print(f\"  {code}: {desc}\")\n",
    "\n",
    "# --- 5. Show the first 5 epochs and their stages ---\n",
    "data, labels = dataset[0]\n",
    "print(\"\\nFirst 5 epochs and their stages:\")\n",
    "for i in range(5):\n",
    "    print(f\"  Epoch {i}: code={labels[i]} → {code_to_stage[labels[i]]}\")\n"
   ]
  },
  {
   "cell_type": "markdown",
   "id": "6cb5774f",
   "metadata": {},
   "source": [
    "## 4. Distribution of Sleep Stages"
   ]
  },
  {
   "cell_type": "code",
   "execution_count": null,
   "id": "c0ac2816",
   "metadata": {},
   "outputs": [],
   "source": [
    "plt.figure(figsize=(8,4))\n",
    "plt.hist(labels, bins=np.arange(unique_labels.min(), unique_labels.max()+2)-0.5)\n",
    "plt.xticks(unique_labels, [code_to_stage[l] for l in unique_labels], rotation=45)\n",
    "plt.xlabel('Sleep Stage')\n",
    "plt.ylabel('Count of Epochs')\n",
    "plt.title('Distribution of Sleep Stages in Recording 1')\n",
    "plt.tight_layout()\n",
    "plt.show()"
   ]
  },
  {
   "cell_type": "markdown",
   "id": "5a2f083a",
   "metadata": {},
   "source": [
    "## 5. Hypnogram Over Time"
   ]
  },
  {
   "cell_type": "code",
   "execution_count": null,
   "id": "fee3f340",
   "metadata": {},
   "outputs": [],
   "source": [
    "# Build hypnogram: times in seconds and stage codes\n",
    "sfreq = raw.info['sfreq']\n",
    "times = events[:, 0] / sfreq  # event onsets\n",
    "stages = events[:, 2]\n",
    "\n",
    "plt.figure(figsize=(12,4))\n",
    "plt.step(times, stages, where='post')\n",
    "plt.yticks(unique_labels, [code_to_stage[l] for l in unique_labels])\n",
    "plt.xlabel('Time (s)')\n",
    "plt.ylabel('Sleep Stage')\n",
    "plt.title('Hypnogram for Recording 1')\n",
    "plt.tight_layout()\n",
    "plt.show()"
   ]
  },
  {
   "cell_type": "markdown",
   "id": "4b7228a8",
   "metadata": {},
   "source": [
    "## 6. Example Epochs for Each Sleep Stage"
   ]
  },
  {
   "cell_type": "code",
   "execution_count": null,
   "id": "a9a73ae3",
   "metadata": {},
   "outputs": [],
   "source": [
    "# For each unique stage, pick the first epoch and plot its waveform\n",
    "for code in unique_labels:\n",
    "    idx = np.where(labels == code)[0][0]\n",
    "    epoch = data[idx, 0, :]\n",
    "    plt.figure(figsize=(10,3))\n",
    "    plt.plot(np.arange(epoch.size)/sfreq, epoch)\n",
    "    plt.title(f\"Stage: {code_to_stage[code]} (code={code}) - Epoch index {idx}\")\n",
    "    plt.xlabel('Time (s)')\n",
    "    plt.ylabel('Amplitude')\n",
    "    plt.tight_layout()\n",
    "    plt.show()"
   ]
  }
 ],
 "metadata": {
  "kernelspec": {
   "display_name": "embedhealth",
   "language": "python",
   "name": "python3"
  },
  "language_info": {
   "codemirror_mode": {
    "name": "ipython",
    "version": 3
   },
   "file_extension": ".py",
   "mimetype": "text/x-python",
   "name": "python",
   "nbconvert_exporter": "python",
   "pygments_lexer": "ipython3",
   "version": "3.10.0"
  }
 },
 "nbformat": 4,
 "nbformat_minor": 5
}
