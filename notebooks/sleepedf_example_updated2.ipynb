{
 "cells": [
  {
   "cell_type": "markdown",
   "id": "45b5c583",
   "metadata": {},
   "source": [
    "# Sleep-EDF Dataset Exploration Notebook (Updated)"
   ]
  },
  {
   "cell_type": "markdown",
   "id": "b66ab891",
   "metadata": {},
   "source": [
    "This notebook shows where the data lives and maps numeric labels to sleep stages."
   ]
  },
  {
   "cell_type": "code",
   "execution_count": 1,
   "id": "a1e540e6",
   "metadata": {},
   "outputs": [
    {
     "name": "stdout",
     "output_type": "stream",
     "text": [
      "Sleep-EDF data directory: /Users/planger/Development/EmbedHealth/time_series_datasets/raw_data/sleep-edf-database-1.0.0/physionet.org/files/sleep-edfx/1.0.0/sleep-cassette\n"
     ]
    }
   ],
   "source": [
    "import os\n",
    "import sys\n",
    "import mne\n",
    "\n",
    "# Point to your loader module\n",
    "import sys\n",
    "sys.path.append(os.path.dirname(os.getcwd()))\n",
    "from time_series_datasets.sleep_edf.sleepedf_loader import SleepEDFDataset, get_sleepedf_data\n",
    "\n",
    "# Initialize and show data path\n",
    "data_path = get_sleepedf_data()\n",
    "print(f\"Sleep-EDF data directory: {data_path}\")\n",
    "dataset = SleepEDFDataset(data_dir=data_path)"
   ]
  },
  {
   "cell_type": "markdown",
   "id": "1e710ec7",
   "metadata": {},
   "source": [
    "## Mapping Numeric Labels to Sleep Stages"
   ]
  },
  {
   "cell_type": "code",
   "execution_count": 2,
   "id": "588cc345",
   "metadata": {},
   "outputs": [
    {
     "name": "stdout",
     "output_type": "stream",
     "text": [
      "First PSG file: SC4002E0-PSG.edf\n",
      "Extracting EDF parameters from /Users/planger/Development/EmbedHealth/time_series_datasets/raw_data/sleep-edf-database-1.0.0/physionet.org/files/sleep-edfx/1.0.0/sleep-cassette/SC4002E0-PSG.edf...\n",
      "EDF file detected\n",
      "Setting channel info structure...\n",
      "Creating raw.info structure...\n",
      "Reading 0 ... 8489999  =      0.000 ... 84899.990 secs...\n"
     ]
    },
    {
     "name": "stderr",
     "output_type": "stream",
     "text": [
      "/var/folders/yc/_4f75pks3hd30p8j5f4skklw0000gs/T/ipykernel_78808/676186336.py:4: RuntimeWarning: Channels contain different highpass filters. Highest filter setting will be stored.\n",
      "  raw = mne.io.read_raw_edf(os.path.join(data_path, psg_file), preload=True)\n",
      "/var/folders/yc/_4f75pks3hd30p8j5f4skklw0000gs/T/ipykernel_78808/676186336.py:4: RuntimeWarning: Channels contain different lowpass filters. Lowest filter setting will be stored.\n",
      "  raw = mne.io.read_raw_edf(os.path.join(data_path, psg_file), preload=True)\n",
      "/var/folders/yc/_4f75pks3hd30p8j5f4skklw0000gs/T/ipykernel_78808/676186336.py:4: RuntimeWarning: Highpass cutoff frequency 16.0 is greater than lowpass cutoff frequency 0.7, setting values to 0 and Nyquist.\n",
      "  raw = mne.io.read_raw_edf(os.path.join(data_path, psg_file), preload=True)\n"
     ]
    },
    {
     "name": "stdout",
     "output_type": "stream",
     "text": [
      "Matched Hypnogram file: SC4002EC-Hypnogram.edf\n",
      "Used Annotations descriptions: [np.str_('Movement time'), np.str_('Sleep stage 1'), np.str_('Sleep stage 2'), np.str_('Sleep stage 3'), np.str_('Sleep stage 4'), np.str_('Sleep stage ?'), np.str_('Sleep stage R'), np.str_('Sleep stage W')]\n",
      "\n",
      "Annotation code → Sleep stage mapping:\n",
      "  1: Movement time\n",
      "  2: Sleep stage 1\n",
      "  3: Sleep stage 2\n",
      "  4: Sleep stage 3\n",
      "  5: Sleep stage 4\n",
      "  6: Sleep stage ?\n",
      "  7: Sleep stage R\n",
      "  8: Sleep stage W\n",
      "Extracting EDF parameters from /Users/planger/Development/EmbedHealth/time_series_datasets/raw_data/sleep-edf-database-1.0.0/physionet.org/files/sleep-edfx/1.0.0/sleep-cassette/SC4002E0-PSG.edf...\n",
      "EDF file detected\n",
      "Setting channel info structure...\n",
      "Creating raw.info structure...\n",
      "Reading 0 ... 8489999  =      0.000 ... 84899.990 secs...\n"
     ]
    },
    {
     "name": "stderr",
     "output_type": "stream",
     "text": [
      "/var/folders/yc/_4f75pks3hd30p8j5f4skklw0000gs/T/ipykernel_78808/676186336.py:13: RuntimeWarning: Limited 1 annotation(s) that were expanding outside the data range.\n",
      "  raw.set_annotations(ann)\n",
      "/Users/planger/Development/EmbedHealth/time_series_datasets/sleep_edf/sleepedf_loader.py:85: RuntimeWarning: Channels contain different highpass filters. Highest filter setting will be stored.\n",
      "  raw = mne.io.read_raw_edf(psg_path, preload=True)\n",
      "/Users/planger/Development/EmbedHealth/time_series_datasets/sleep_edf/sleepedf_loader.py:85: RuntimeWarning: Channels contain different lowpass filters. Lowest filter setting will be stored.\n",
      "  raw = mne.io.read_raw_edf(psg_path, preload=True)\n",
      "/Users/planger/Development/EmbedHealth/time_series_datasets/sleep_edf/sleepedf_loader.py:85: RuntimeWarning: Highpass cutoff frequency 16.0 is greater than lowpass cutoff frequency 0.7, setting values to 0 and Nyquist.\n",
      "  raw = mne.io.read_raw_edf(psg_path, preload=True)\n"
     ]
    },
    {
     "name": "stdout",
     "output_type": "stream",
     "text": [
      "Used Annotations descriptions: [np.str_('Movement time'), np.str_('Sleep stage 1'), np.str_('Sleep stage 2'), np.str_('Sleep stage 3'), np.str_('Sleep stage 4'), np.str_('Sleep stage ?'), np.str_('Sleep stage R'), np.str_('Sleep stage W')]\n",
      "Not setting metadata\n",
      "151 matching events found\n",
      "No baseline correction applied\n",
      "0 projection items activated\n",
      "Using data from preloaded Raw for 151 events and 3000 original time points ...\n",
      "0 bad epochs dropped\n",
      "\n",
      "First 5 epochs and their stages:\n",
      "  Epoch 0: code=8 → Sleep stage W\n",
      "  Epoch 1: code=2 → Sleep stage 1\n",
      "  Epoch 2: code=3 → Sleep stage 2\n",
      "  Epoch 3: code=4 → Sleep stage 3\n",
      "  Epoch 4: code=5 → Sleep stage 4\n"
     ]
    },
    {
     "name": "stderr",
     "output_type": "stream",
     "text": [
      "/Users/planger/Development/EmbedHealth/time_series_datasets/sleep_edf/sleepedf_loader.py:87: RuntimeWarning: Limited 1 annotation(s) that were expanding outside the data range.\n",
      "  raw.set_annotations(ann)\n"
     ]
    }
   ],
   "source": [
    "# Load raw and annotations for the first recording\n",
    "psg_file = dataset.data_files[0]\n",
    "print(f\"First PSG file: {psg_file}\")\n",
    "raw = mne.io.read_raw_edf(os.path.join(data_path, psg_file), preload=True)\n",
    "\n",
    "# Find the matching hypnogram file\n",
    "prefix = psg_file.split('-')[0][:6]\n",
    "hyp_files = [f for f in os.listdir(data_path)\n",
    "             if f.startswith(prefix) and f.endswith('Hypnogram.edf')]\n",
    "hyp_file = hyp_files[0]\n",
    "print(f\"Matched Hypnogram file: {hyp_file}\")\n",
    "ann = mne.read_annotations(os.path.join(data_path, hyp_file))\n",
    "raw.set_annotations(ann)\n",
    "\n",
    "# Extract events and mapping\n",
    "events, event_id = mne.events_from_annotations(raw)\n",
    "code_to_stage = {code: desc for desc, code in event_id.items()}\n",
    "\n",
    "print(\"\\nAnnotation code → Sleep stage mapping:\")\n",
    "for code, desc in code_to_stage.items():\n",
    "    print(f\"  {code}: {desc}\")\n",
    "\n",
    "# Display first 5 epochs and their stages\n",
    "data, labels = dataset[0]\n",
    "print(\"\\nFirst 5 epochs and their stages:\")\n",
    "for i in range(5):\n",
    "    print(f\"  Epoch {i}: code={labels[i]} → {code_to_stage[labels[i]]}\")"
   ]
  },
  {
   "cell_type": "code",
   "execution_count": null,
   "id": "55aa53f4",
   "metadata": {},
   "outputs": [],
   "source": []
  }
 ],
 "metadata": {
  "kernelspec": {
   "display_name": "embedhealth",
   "language": "python",
   "name": "python3"
  },
  "language_info": {
   "codemirror_mode": {
    "name": "ipython",
    "version": 3
   },
   "file_extension": ".py",
   "mimetype": "text/x-python",
   "name": "python",
   "nbconvert_exporter": "python",
   "pygments_lexer": "ipython3",
   "version": "3.10.0"
  }
 },
 "nbformat": 4,
 "nbformat_minor": 5
}
